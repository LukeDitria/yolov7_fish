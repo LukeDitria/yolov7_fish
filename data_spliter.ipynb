{
 "cells": [
  {
   "cell_type": "code",
   "execution_count": null,
   "metadata": {},
   "outputs": [],
   "source": [
    "import os\n",
    "import math\n",
    "import numpy as np"
   ]
  },
  {
   "cell_type": "code",
   "execution_count": null,
   "metadata": {},
   "outputs": [],
   "source": [
    "# Set the starting directory\n",
    "start_dir = \"/media/luke/Quick Storage/Data/pumicestone_20221213/\"\n",
    "# Use os.walk() to loop through the nested directories\n",
    "\n",
    "files_log = []\n",
    "for root, dirs, files in os.walk(start_dir + \"images\"):\n",
    "    # Loop through the list of files\n",
    "    for file in files:\n",
    "        files_log.append(file)\n",
    "\n",
    "files_log = np.sort(files_log)\n",
    "total_files = len(files_log)\n",
    "train = int(0.8 * total_files)\n",
    "test = int(0.1 * total_files)\n",
    "val = int(0.1 * total_files)\n",
    "\n",
    "extra = total_files % (train + test + val)\n",
    "train += extra\n",
    "\n",
    "# train_files = []\n",
    "with open(start_dir + 'train.txt', 'w') as f:\n",
    "    for i in range(train):\n",
    "        f.write(\"./images/\" + files_log[i] + \"\\n\")\n",
    "#         train_files.append(\"./images/\" + files_log[i])\n",
    "    \n",
    "# test_files = []\n",
    "with open(start_dir + 'test.txt', 'w') as f:\n",
    "    for i in range(test):\n",
    "        f.write(\"./images/\" + files_log[i + train] + \"\\n\")\n",
    "#         test_files.append(\"./images/\" + files_log[i + train])\n",
    "    \n",
    "# val_files = []\n",
    "with open(start_dir + 'val.txt', 'w') as f:\n",
    "    for i in range(val):\n",
    "        f.write(\"./images/\" + files_log[i + train + test] + \"\\n\")\n",
    "#         val_files.append(\"./images/\" + files_log[i + train + test])"
   ]
  }
 ],
 "metadata": {
  "kernelspec": {
   "display_name": "Python 3",
   "language": "python",
   "name": "python3"
  },
  "language_info": {
   "codemirror_mode": {
    "name": "ipython",
    "version": 3
   },
   "file_extension": ".py",
   "mimetype": "text/x-python",
   "name": "python",
   "nbconvert_exporter": "python",
   "pygments_lexer": "ipython3",
   "version": "3.6.9"
  }
 },
 "nbformat": 4,
 "nbformat_minor": 4
}
