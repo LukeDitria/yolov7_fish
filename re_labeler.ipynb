{
 "cells": [
  {
   "cell_type": "code",
   "execution_count": null,
   "metadata": {},
   "outputs": [],
   "source": [
    "import os\n",
    "import math\n",
    "import numpy as np"
   ]
  },
  {
   "cell_type": "code",
   "execution_count": null,
   "metadata": {},
   "outputs": [],
   "source": [
    "# Set the starting directory\n",
    "start_dir = \"/media/luke/Quick Storage/Data/pumicestone_20221213/labels\"\n",
    "# Use os.walk() to loop through the nested directories\n",
    "\n",
    "for root, dirs, files in os.walk(start_dir):\n",
    "    # Loop through the list of files\n",
    "    for file in files:\n",
    "        file_path = os.path.join(start_dir, file)\n",
    "        with open(file_path, 'r') as file:\n",
    "            lines = file.readlines()\n",
    "        \n",
    "        new_lines = []\n",
    "        for line in lines:\n",
    "            line_list = line.split(\" \")\n",
    "            line_list[0] = '0'\n",
    "            new_lines.append(\" \".join(line_list))\n",
    "            \n",
    "        with open(file_path, 'w') as file:\n",
    "            # Write the updated list of lines back to the file\n",
    "            file.writelines(new_lines)"
   ]
  },
  {
   "cell_type": "code",
   "execution_count": null,
   "metadata": {},
   "outputs": [],
   "source": []
  }
 ],
 "metadata": {
  "kernelspec": {
   "display_name": "Python 3",
   "language": "python",
   "name": "python3"
  },
  "language_info": {
   "codemirror_mode": {
    "name": "ipython",
    "version": 3
   },
   "file_extension": ".py",
   "mimetype": "text/x-python",
   "name": "python",
   "nbconvert_exporter": "python",
   "pygments_lexer": "ipython3",
   "version": "3.6.9"
  }
 },
 "nbformat": 4,
 "nbformat_minor": 4
}
